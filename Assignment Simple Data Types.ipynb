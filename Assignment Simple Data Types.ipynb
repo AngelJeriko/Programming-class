{
 "cells": [
  {
   "cell_type": "code",
   "execution_count": 3,
   "id": "9d22743a",
   "metadata": {},
   "outputs": [
    {
     "data": {
      "text/plain": [
       "2"
      ]
     },
     "execution_count": 3,
     "metadata": {},
     "output_type": "execute_result"
    }
   ],
   "source": [
    "#Booleans question 1\n",
    "True + True - False\n"
   ]
  },
  {
   "cell_type": "code",
   "execution_count": null,
   "id": "638bb4f7",
   "metadata": {},
   "outputs": [
    {
     "name": "stdout",
     "output_type": "stream",
     "text": [
      "True\n"
     ]
    }
   ],
   "source": [
    "#question 2\n",
    "logical_tracker = True\n",
    "\n",
    "logical_tracker = logical_tracker and logical_tracker\n",
    "\n",
    "logical_tracker = logical_tracker or (logical_tracker - logical_tracker)\n",
    "\n",
    "print(logical_tracker)"
   ]
  },
  {
   "cell_type": "code",
   "execution_count": 7,
   "id": "5ab4ace0",
   "metadata": {},
   "outputs": [
    {
     "data": {
      "text/plain": [
       "' '"
      ]
     },
     "execution_count": 7,
     "metadata": {},
     "output_type": "execute_result"
    }
   ],
   "source": [
    "#question 5\n",
    "string = \"E. Coli\"\n",
    "\n",
    "string[2]"
   ]
  },
  {
   "cell_type": "code",
   "execution_count": 9,
   "id": "c7aaeffd",
   "metadata": {},
   "outputs": [
    {
     "ename": "TypeError",
     "evalue": "'str' object does not support item assignment",
     "output_type": "error",
     "traceback": [
      "\u001b[31m---------------------------------------------------------------------------\u001b[39m",
      "\u001b[31mTypeError\u001b[39m                                 Traceback (most recent call last)",
      "\u001b[36mCell\u001b[39m\u001b[36m \u001b[39m\u001b[32mIn[9]\u001b[39m\u001b[32m, line 8\u001b[39m\n\u001b[32m      4\u001b[39m string = \u001b[33m\"\u001b[39m\u001b[33mI Bove python\u001b[39m\u001b[33m\"\u001b[39m\n\u001b[32m      6\u001b[39m \u001b[38;5;66;03m#No worries though. I'll just fix that.\u001b[39;00m\n\u001b[32m----> \u001b[39m\u001b[32m8\u001b[39m \u001b[43mstring\u001b[49m\u001b[43m[\u001b[49m\u001b[32;43m2\u001b[39;49m\u001b[43m]\u001b[49m=\u001b[33m\"\u001b[39m\u001b[33mL\u001b[39m\u001b[33m\"\u001b[39m\n",
      "\u001b[31mTypeError\u001b[39m: 'str' object does not support item assignment"
     ]
    }
   ],
   "source": [
    "#Question 6\n",
    "#Oh no! My string has a typo!\n",
    "\n",
    "string = \"I Bove python\"\n",
    "\n",
    "#No worries though. I'll just fix that.\n",
    "\n",
    "string[2]=\"L\""
   ]
  },
  {
   "cell_type": "code",
   "execution_count": 12,
   "id": "c3530b9c",
   "metadata": {},
   "outputs": [
    {
     "name": "stdout",
     "output_type": "stream",
     "text": [
      "4\n",
      "ab\n"
     ]
    }
   ],
   "source": [
    "#Question 9\n",
    "#The addition operation will add integers together like a math operation however the addition operation will only put the two strings side by side together with no space between them. \n",
    "#Example = \n",
    "# integers \n",
    "a = 2\n",
    "b = 2\n",
    "print(a+b)\n",
    "\n",
    "#strings \n",
    "c= \"a\"\n",
    "d= \"b\"\n",
    "print(c+d)"
   ]
  },
  {
   "cell_type": "code",
   "execution_count": 14,
   "id": "0ed37276",
   "metadata": {},
   "outputs": [
    {
     "name": "stdout",
     "output_type": "stream",
     "text": [
      "73\n"
     ]
    }
   ],
   "source": [
    "#question 10\n",
    "#Type the output if the strings \"7\" and \"3\" are added.\n",
    "a= \"7\"\n",
    "b= \"3\"\n",
    "print(a+b)\n"
   ]
  },
  {
   "cell_type": "code",
   "execution_count": null,
   "id": "260cea22",
   "metadata": {},
   "outputs": [],
   "source": []
  }
 ],
 "metadata": {
  "kernelspec": {
   "display_name": "Python 3",
   "language": "python",
   "name": "python3"
  },
  "language_info": {
   "codemirror_mode": {
    "name": "ipython",
    "version": 3
   },
   "file_extension": ".py",
   "mimetype": "text/x-python",
   "name": "python",
   "nbconvert_exporter": "python",
   "pygments_lexer": "ipython3",
   "version": "3.11.9"
  }
 },
 "nbformat": 4,
 "nbformat_minor": 5
}
